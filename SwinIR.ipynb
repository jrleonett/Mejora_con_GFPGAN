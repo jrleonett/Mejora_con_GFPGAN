{
  "nbformat": 4,
  "nbformat_minor": 0,
  "metadata": {
    "colab": {
      "provenance": [],
      "authorship_tag": "ABX9TyMofz9ICkay8cr4BwNCT8ou",
      "include_colab_link": true
    },
    "kernelspec": {
      "name": "python3",
      "display_name": "Python 3"
    },
    "language_info": {
      "name": "python"
    },
    "accelerator": "GPU",
    "gpuClass": "standard"
  },
  "cells": [
    {
      "cell_type": "markdown",
      "metadata": {
        "id": "view-in-github",
        "colab_type": "text"
      },
      "source": [
        "<a href=\"https://colab.research.google.com/github/jrleonett/SwinIR/blob/main/SwinIR.ipynb\" target=\"_parent\"><img src=\"https://colab.research.google.com/assets/colab-badge.svg\" alt=\"Open In Colab\"/></a>"
      ]
    },
    {
      "cell_type": "markdown",
      "source": [
        "# **Mejora de Imágenes con GFPGAN para Análisis Forense**\n",
        "\n",
        "Este proyecto utiliza el modelo **GFPGAN** (Generative Facial Prior Generative Adversarial Network) para mejorar la calidad de imágenes, especialmente rostros, y escalarlas al doble de su tamaño original. Está diseñado para ser utilizado en el ámbito del **cómputo forense**, donde la claridad y calidad de las imágenes son importante para el análisis e identificación."
      ],
      "metadata": {
        "id": "kXvY5u0mEY8D"
      }
    },
    {
      "cell_type": "code",
      "metadata": {
        "id": "GnpnrLfMV2jU",
        "cellView": "form"
      },
      "source": [
        "#@title #1.) Configuración inicial y creación de carpeta EVIDENCIAS\n",
        "%%capture\n",
        "\n",
        "# Desinstalar versiones actuales de torch, torchvision y torchaudio\n",
        "!pip uninstall torch torchvision torchaudio -y\n",
        "\n",
        "# Instalar versiones compatibles de torch y torchvision\n",
        "!pip install torch==1.13.1 torchvision==0.14.1 --extra-index-url https://download.pytorch.org/whl/cu117\n",
        "\n",
        "# Instalar dependencias necesarias\n",
        "!pip install gfpgan\n",
        "!pip install realesrgan\n",
        "!pip install basicsr\n",
        "\n",
        "# Crear carpeta EVIDENCIAS\n",
        "import os\n",
        "from google.colab import files\n",
        "import torch\n",
        "from gfpgan import GFPGANer\n",
        "\n",
        "if not os.path.exists('EVIDENCIAS'):\n",
        "    os.makedirs('EVIDENCIAS')\n",
        "    print(\"Carpeta 'EVIDENCIAS' creada.\")\n",
        "\n",
        "# Descargar el modelo GFPGAN\n",
        "print(\"Descargando el modelo GFPGAN...\")\n",
        "model_path = 'GFPGANv1.4.pth'\n",
        "if not os.path.exists(model_path):\n",
        "    !wget https://github.com/TencentARC/GFPGAN/releases/download/v1.3.0/GFPGANv1.4.pth -O GFPGANv1.4.pth\n",
        "\n",
        "# Cargar el modelo GFPGAN\n",
        "print(\"Cargando el modelo GFPGAN...\")\n",
        "restorer = GFPGANer(\n",
        "    model_path=model_path,\n",
        "    upscale=2,  # Escalar al doble de tamaño\n",
        "    arch='clean',\n",
        "    channel_multiplier=2,\n",
        "    bg_upsampler=None\n",
        ")\n",
        "print()\n",
        "print(\"Modelo GFPGAN cargado correctamente.\")"
      ],
      "execution_count": null,
      "outputs": []
    },
    {
      "cell_type": "code",
      "source": [
        "#@title #2.) Mejorar la imagen usando GFPGAN y escalarla al doble\n",
        "\n",
        "import cv2\n",
        "import matplotlib.pyplot as plt\n",
        "import glob\n",
        "\n",
        "def mejorar_imagen_gfpgan(img_path):\n",
        "    \"\"\"Mejorar la imagen usando GFPGAN.\"\"\"\n",
        "    # Leer la imagen\n",
        "    img = cv2.imread(img_path, cv2.IMREAD_COLOR)\n",
        "    if img is None:\n",
        "        print(f\"Error al cargar la imagen: {img_path}\")\n",
        "        return None\n",
        "\n",
        "    # Mejorar la imagen con GFPGAN\n",
        "    _, _, img_mejorada = restorer.enhance(\n",
        "        img,\n",
        "        has_aligned=False,\n",
        "        only_center_face=False,\n",
        "        paste_back=True\n",
        "    )\n",
        "\n",
        "    return img_mejorada\n",
        "\n",
        "def mostrar_imagenes(img_original, img_mejorada):\n",
        "    \"\"\"Mostrar la imagen original y la mejorada.\"\"\"\n",
        "    plt.figure(figsize=(12, 6))\n",
        "    plt.subplot(1, 2, 1)\n",
        "    plt.title(\"Imagen Original\")\n",
        "    plt.axis('off')\n",
        "    plt.imshow(cv2.cvtColor(img_original, cv2.COLOR_BGR2RGB))\n",
        "\n",
        "    plt.subplot(1, 2, 2)\n",
        "    plt.title(\"Imagen Mejorada con GFPGAN\")\n",
        "    plt.axis('off')\n",
        "    plt.imshow(cv2.cvtColor(img_mejorada, cv2.COLOR_BGR2RGB))\n",
        "    plt.show()\n",
        "\n",
        "# Procesar todas las imágenes en la carpeta EVIDENCIAS\n",
        "input_list = glob.glob(os.path.join('EVIDENCIAS', '*'))\n",
        "\n",
        "for input_path in input_list:\n",
        "    # Leer la imagen original\n",
        "    img_original = cv2.imread(input_path)\n",
        "    if img_original is None:\n",
        "        print(f\"Error al cargar la imagen: {input_path}\")\n",
        "        continue\n",
        "\n",
        "    # Mejorar la imagen con GFPGAN\n",
        "    img_mejorada = mejorar_imagen_gfpgan(input_path)\n",
        "    if img_mejorada is None:\n",
        "        continue\n",
        "\n",
        "    # Mostrar resultados en pantalla\n",
        "    mostrar_imagenes(img_original, img_mejorada)\n",
        "\n",
        "    # Guardar la imagen mejorada\n",
        "    filename = os.path.basename(input_path)\n",
        "    filename_base, _ = os.path.splitext(filename)\n",
        "    output_path = os.path.join('EVIDENCIAS', f\"{filename_base}_mejoradoIA.jpg\")\n",
        "    cv2.imwrite(output_path, img_mejorada)\n",
        "    print(f\"Imagen mejorada guardada en: {output_path}\")"
      ],
      "metadata": {
        "cellView": "form",
        "id": "74NkY0TNFL_z"
      },
      "execution_count": null,
      "outputs": []
    },
    {
      "cell_type": "code",
      "source": [
        "#@title #3) Empaquetar imágenes en un archivo ZIP\n",
        "\n",
        "import zipfile\n",
        "from google.colab import files\n",
        "import os\n",
        "\n",
        "# Crear un archivo ZIP con las imágenes originales y mejoradas\n",
        "zip_path = 'EVIDENCIAS_Mejoradas.zip'\n",
        "with zipfile.ZipFile(zip_path, 'w') as zipf:\n",
        "    for root, dirs, files_in_folder in os.walk('EVIDENCIAS'):\n",
        "        for file in files_in_folder:\n",
        "            # Agregar tanto el archivo original como el mejorado\n",
        "            if file.endswith('.jpg') or file.endswith('.png') or file.endswith('_mejoradoIA.jpg'):\n",
        "                file_path = os.path.join(root, file)\n",
        "                zipf.write(file_path, arcname=file)\n",
        "\n",
        "print(f\"Archivo ZIP creado: {zip_path}\")\n",
        "\n",
        "# Descargar el archivo ZIP\n",
        "files.download(zip_path)\n",
        "print(f\"Archivo {zip_path} descargado.\")"
      ],
      "metadata": {
        "cellView": "form",
        "id": "a-SFjYtLGujS"
      },
      "execution_count": null,
      "outputs": []
    }
  ]
}
